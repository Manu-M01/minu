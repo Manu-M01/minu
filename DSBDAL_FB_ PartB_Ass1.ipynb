{
 "cells": [
  {
   "cell_type": "code",
   "execution_count": null,
   "id": "7cacc70e",
   "metadata": {},
   "outputs": [],
   "source": [
    "\"\"\"1.Perform the following operations using Python on the Facebook metrics data sets\n",
    "a. Create data subsets\n",
    "b. Merge Data\n",
    "c. Sort Data\n",
    "d. Transposing Data\n",
    "e. Shape and reshape Data\"\"\""
   ]
  },
  {
   "cell_type": "code",
   "execution_count": null,
   "id": "0e30cab5",
   "metadata": {},
   "outputs": [],
   "source": [
    "import pandas as pd"
   ]
  },
  {
   "cell_type": "code",
   "execution_count": null,
   "id": "ae45e7bc",
   "metadata": {},
   "outputs": [],
   "source": [
    "df = pd.read_csv('dataset_Facebook.csv',delimiter=';')"
   ]
  },
  {
   "cell_type": "code",
   "execution_count": null,
   "id": "e6a6c2b8",
   "metadata": {},
   "outputs": [],
   "source": [
    "df.describe()"
   ]
  },
  {
   "cell_type": "code",
   "execution_count": null,
   "id": "b210000f",
   "metadata": {},
   "outputs": [],
   "source": [
    "df.shape"
   ]
  },
  {
   "cell_type": "code",
   "execution_count": null,
   "id": "3c4e08a2",
   "metadata": {},
   "outputs": [],
   "source": [
    "df.info()"
   ]
  },
  {
   "cell_type": "code",
   "execution_count": null,
   "id": "625e6542",
   "metadata": {},
   "outputs": [],
   "source": [
    "df.columns"
   ]
  },
  {
   "cell_type": "code",
   "execution_count": null,
   "id": "2005a7b6",
   "metadata": {},
   "outputs": [],
   "source": [
    "df.head(10)"
   ]
  },
  {
   "cell_type": "code",
   "execution_count": null,
   "id": "b0f1d1aa",
   "metadata": {},
   "outputs": [],
   "source": [
    "subset1=df[10:40]"
   ]
  },
  {
   "cell_type": "code",
   "execution_count": null,
   "id": "6054a44a",
   "metadata": {},
   "outputs": [],
   "source": [
    "subset1"
   ]
  },
  {
   "cell_type": "code",
   "execution_count": null,
   "id": "9b7c5f0c",
   "metadata": {},
   "outputs": [],
   "source": [
    "df.iloc[3:5] # row no 3 & 4 extracted"
   ]
  },
  {
   "cell_type": "code",
   "execution_count": null,
   "id": "0adc8a71",
   "metadata": {},
   "outputs": [],
   "source": [
    "df.iloc[:5] # extract first 5 rows"
   ]
  },
  {
   "cell_type": "code",
   "execution_count": null,
   "id": "e1361b69",
   "metadata": {},
   "outputs": [],
   "source": [
    "df.iloc[:3,1:4] # first 3 rows for column 1,2,3"
   ]
  },
  {
   "cell_type": "code",
   "execution_count": null,
   "id": "3c12a28a",
   "metadata": {},
   "outputs": [],
   "source": [
    "df.iloc[[2,5,6]] # extract row 2,5,6"
   ]
  },
  {
   "cell_type": "code",
   "execution_count": null,
   "id": "8f5f4538",
   "metadata": {},
   "outputs": [],
   "source": [
    "df.iloc[:,2]"
   ]
  },
  {
   "cell_type": "code",
   "execution_count": null,
   "id": "c2ad9475",
   "metadata": {},
   "outputs": [],
   "source": [
    "df.loc[[2,4,5],['Type','Category']]"
   ]
  },
  {
   "cell_type": "code",
   "execution_count": null,
   "id": "720f94ed",
   "metadata": {},
   "outputs": [],
   "source": [
    "df['Category']==3\n"
   ]
  },
  {
   "cell_type": "code",
   "execution_count": null,
   "id": "87e383d1",
   "metadata": {},
   "outputs": [],
   "source": [
    "df.loc[df['Category']==3]"
   ]
  },
  {
   "cell_type": "code",
   "execution_count": null,
   "id": "afa329e7",
   "metadata": {},
   "outputs": [],
   "source": [
    "df[df['Category']==3]"
   ]
  },
  {
   "cell_type": "code",
   "execution_count": null,
   "id": "953b57a1",
   "metadata": {},
   "outputs": [],
   "source": [
    "df[df['Lifetime Engaged Users']>500]"
   ]
  },
  {
   "cell_type": "code",
   "execution_count": null,
   "id": "d7697b40",
   "metadata": {},
   "outputs": [],
   "source": []
  },
  {
   "cell_type": "code",
   "execution_count": null,
   "id": "59cc7e3f",
   "metadata": {},
   "outputs": [],
   "source": [
    "df[(df['Lifetime Post Consumptions']<1000 ) & (df['Paid']==0.0)]"
   ]
  },
  {
   "cell_type": "code",
   "execution_count": null,
   "id": "e6e6bf17",
   "metadata": {},
   "outputs": [],
   "source": [
    "df1=pd.DataFrame({'A':['A0','A1','A2','A3'],\n",
    "                  'B':['B0','B1','B2','B3'],\n",
    "                   'C':['C0','C1','C2','C3'],\n",
    "                   'D':['D0','D1','D2','D3']\n",
    "                  \n",
    "                    })"
   ]
  },
  {
   "cell_type": "code",
   "execution_count": null,
   "id": "e2f87cb1",
   "metadata": {},
   "outputs": [],
   "source": [
    "df1"
   ]
  },
  {
   "cell_type": "code",
   "execution_count": null,
   "id": "bfeb6caf",
   "metadata": {},
   "outputs": [],
   "source": [
    "df2=pd.DataFrame({'A':['A4','A5','A6','A7'],\n",
    "                  'B':['B4','B5','B6','B7'],\n",
    "                   'C':['C4','C5','C6','C7'],\n",
    "                   'D':['D4','D5','D6','D7']\n",
    "                  \n",
    "                    })"
   ]
  },
  {
   "cell_type": "code",
   "execution_count": null,
   "id": "15de9c0b",
   "metadata": {},
   "outputs": [],
   "source": [
    "df3=pd.DataFrame({'A':['A8','A9','A10','A11'],\n",
    "                  'B':['B8','B9','B10','B11'],\n",
    "                   'C':['C8','C9','C10','C11'],\n",
    "                   'D':['D8','D9','D10','D11']\n",
    "                  \n",
    "                    })"
   ]
  },
  {
   "cell_type": "code",
   "execution_count": null,
   "id": "60317653",
   "metadata": {},
   "outputs": [],
   "source": [
    "df2"
   ]
  },
  {
   "cell_type": "code",
   "execution_count": null,
   "id": "7de2e618",
   "metadata": {},
   "outputs": [],
   "source": [
    "df3"
   ]
  },
  {
   "cell_type": "code",
   "execution_count": null,
   "id": "0b1e1af3",
   "metadata": {},
   "outputs": [],
   "source": [
    "pd.concat([df1,df2,df3], ignore_index=True)"
   ]
  },
  {
   "cell_type": "code",
   "execution_count": null,
   "id": "c5446b54",
   "metadata": {},
   "outputs": [],
   "source": [
    "pd.concat([df1,df2,df3],axis=1)"
   ]
  },
  {
   "cell_type": "code",
   "execution_count": null,
   "id": "1e5d7788",
   "metadata": {},
   "outputs": [],
   "source": [
    "left=pd.DataFrame({'key':['k0','k1','k2','k3'],\n",
    "                  'A':['A0','A1','A2','A3'],\n",
    "                  'B':['B0','B1','B2','B3']})\n",
    "right=pd.DataFrame({'key':['k0','k1','k2','k4'],\n",
    "                  'C':['C0','C1','C2','C3'],\n",
    "                  'D':['D0','D1','D2','D3']})"
   ]
  },
  {
   "cell_type": "code",
   "execution_count": null,
   "id": "7cf5e349",
   "metadata": {},
   "outputs": [],
   "source": [
    "left"
   ]
  },
  {
   "cell_type": "code",
   "execution_count": null,
   "id": "ee4c9a42",
   "metadata": {},
   "outputs": [],
   "source": [
    "right"
   ]
  },
  {
   "cell_type": "code",
   "execution_count": null,
   "id": "aa038099",
   "metadata": {},
   "outputs": [],
   "source": [
    "pd.merge(left,right,how='inner',on='key')"
   ]
  },
  {
   "cell_type": "code",
   "execution_count": null,
   "id": "6f7ba2e0",
   "metadata": {},
   "outputs": [],
   "source": [
    "left1=pd.DataFrame({'key1':['k0','k0','k1','k2'],\n",
    "                   'key2':['k0','k1','k0','k1'],\n",
    "                  'A':['A0','A1','A2','A3'],\n",
    "                  'B':['B0','B1','B2','B3']})\n",
    "\n",
    "right1=pd.DataFrame({'key1':['k0','k1','k1','k2'],\n",
    "                    'key2':['k0','k0','k0','k0'],\n",
    "                  'C':['C0','C1','C2','C3'],\n",
    "                  'D':['D0','D1','D2','D3']})"
   ]
  },
  {
   "cell_type": "code",
   "execution_count": null,
   "id": "fed1b82f",
   "metadata": {},
   "outputs": [],
   "source": [
    "pd.merge(left1,right1,how='inner',on=['key1','key2'])"
   ]
  },
  {
   "cell_type": "code",
   "execution_count": null,
   "id": "7fa1a9db",
   "metadata": {},
   "outputs": [],
   "source": [
    "pd.merge(left1,right1,how='outer',on=['key1','key2'])"
   ]
  },
  {
   "cell_type": "code",
   "execution_count": null,
   "id": "742879ad",
   "metadata": {},
   "outputs": [],
   "source": [
    "pd.merge(left1,right1,how='left',on=['key1','key2'])"
   ]
  },
  {
   "cell_type": "code",
   "execution_count": null,
   "id": "297976c2",
   "metadata": {},
   "outputs": [],
   "source": [
    "pd.merge(left1,right1,how='right',on=['key1','key2'])"
   ]
  },
  {
   "cell_type": "code",
   "execution_count": null,
   "id": "cc7b4f4d",
   "metadata": {},
   "outputs": [],
   "source": [
    "# create two dataframes for facebook dataset with common column \n",
    "ldataset=df.iloc[:,0:10]\n",
    "rdataset=df.iloc[:,9:20]\n",
    "ldataset.head(5)\n"
   ]
  },
  {
   "cell_type": "code",
   "execution_count": null,
   "id": "d3eed022",
   "metadata": {},
   "outputs": [],
   "source": [
    "rdataset.head(5)"
   ]
  },
  {
   "cell_type": "code",
   "execution_count": null,
   "id": "8c817bc1",
   "metadata": {},
   "outputs": [],
   "source": [
    "merge_result=pd.merge(ldataset,rdataset, on='Lifetime Engaged Users')"
   ]
  },
  {
   "cell_type": "markdown",
   "id": "1563314c",
   "metadata": {},
   "source": [
    "merge_result.shape"
   ]
  },
  {
   "cell_type": "code",
   "execution_count": null,
   "id": "f297d5b7",
   "metadata": {},
   "outputs": [],
   "source": [
    "merge_result.shape"
   ]
  },
  {
   "cell_type": "code",
   "execution_count": null,
   "id": "982f8f10",
   "metadata": {},
   "outputs": [],
   "source": [
    "merge_result1=pd.merge(ldataset,rdataset[['Lifetime Engaged Users','Lifetime Post Consumers']], on='Lifetime Engaged Users')"
   ]
  },
  {
   "cell_type": "code",
   "execution_count": null,
   "id": "75c74d7b",
   "metadata": {},
   "outputs": [],
   "source": [
    "merge_result1"
   ]
  },
  {
   "cell_type": "code",
   "execution_count": null,
   "id": "c3b84feb",
   "metadata": {},
   "outputs": [],
   "source": [
    "common_values=ldataset['Lifetime Engaged Users'].isin(rdataset['Lifetime Engaged Users']).value_counts()"
   ]
  },
  {
   "cell_type": "code",
   "execution_count": null,
   "id": "5d26a5df",
   "metadata": {},
   "outputs": [],
   "source": [
    "print(common_values)"
   ]
  },
  {
   "cell_type": "code",
   "execution_count": null,
   "id": "8568b0e0",
   "metadata": {},
   "outputs": [],
   "source": [
    "leftjoin=pd.merge(ldataset,rdataset[['Lifetime Engaged Users','Lifetime Post Consumers']],how='left')"
   ]
  },
  {
   "cell_type": "code",
   "execution_count": null,
   "id": "b710131c",
   "metadata": {},
   "outputs": [],
   "source": [
    "leftjoin.head()\n"
   ]
  },
  {
   "cell_type": "code",
   "execution_count": null,
   "id": "4143d868",
   "metadata": {},
   "outputs": [],
   "source": [
    "rightjoin=pd.merge(ldataset,rdataset[['Lifetime Engaged Users','Lifetime Post Consumers']],how='right')"
   ]
  },
  {
   "cell_type": "code",
   "execution_count": null,
   "id": "f266f874",
   "metadata": {},
   "outputs": [],
   "source": [
    "rightjoin\n"
   ]
  },
  {
   "cell_type": "code",
   "execution_count": null,
   "id": "84f4fce0",
   "metadata": {},
   "outputs": [],
   "source": [
    "rightjoin=pd.merge(ldataset,rdataset[['Lifetime Engaged Users','Lifetime Post Consumers']],how='right')"
   ]
  },
  {
   "cell_type": "code",
   "execution_count": null,
   "id": "6f51e6f3",
   "metadata": {},
   "outputs": [],
   "source": [
    "innerjoin=pd.merge(ldataset,rdataset[['Lifetime Engaged Users','Lifetime Post Consumers']],how='inner')"
   ]
  },
  {
   "cell_type": "code",
   "execution_count": null,
   "id": "10c063c2",
   "metadata": {},
   "outputs": [],
   "source": [
    "outerjoin=pd.merge(ldataset,rdataset[['Lifetime Engaged Users','Lifetime Post Consumers']],how='outer')"
   ]
  },
  {
   "cell_type": "code",
   "execution_count": null,
   "id": "b4b5f647",
   "metadata": {},
   "outputs": [],
   "source": [
    "# sort\n",
    "\n",
    "sd=df.sort_values('Lifetime Post Total Reach')"
   ]
  },
  {
   "cell_type": "code",
   "execution_count": null,
   "id": "edda969e",
   "metadata": {},
   "outputs": [],
   "source": [
    "sd.head()"
   ]
  },
  {
   "cell_type": "code",
   "execution_count": null,
   "id": "2a3f356c",
   "metadata": {},
   "outputs": [],
   "source": [
    "df.head()"
   ]
  },
  {
   "cell_type": "code",
   "execution_count": null,
   "id": "1ae5de02",
   "metadata": {},
   "outputs": [],
   "source": [
    "sd1=df.sort_values('Lifetime Post Total Reach',ascending=False)"
   ]
  },
  {
   "cell_type": "code",
   "execution_count": null,
   "id": "25f78321",
   "metadata": {},
   "outputs": [],
   "source": [
    "sd1.head()"
   ]
  },
  {
   "cell_type": "code",
   "execution_count": null,
   "id": "2f92aee0",
   "metadata": {},
   "outputs": [],
   "source": [
    "sd1.sort_values('Lifetime Post Total Reach',inplace=True)"
   ]
  },
  {
   "cell_type": "code",
   "execution_count": null,
   "id": "60373988",
   "metadata": {},
   "outputs": [],
   "source": [
    "sd1"
   ]
  },
  {
   "cell_type": "code",
   "execution_count": null,
   "id": "b8435e06",
   "metadata": {},
   "outputs": [],
   "source": [
    "transdf=df.T\n",
    "print(transdf)"
   ]
  },
  {
   "cell_type": "code",
   "execution_count": null,
   "id": "cbe32d39",
   "metadata": {},
   "outputs": [],
   "source": [
    "import numpy as np\n",
    "ds=np.array([1,2,3,4,5,6])\n",
    "ds.shape"
   ]
  },
  {
   "cell_type": "code",
   "execution_count": null,
   "id": "61d2c12c",
   "metadata": {},
   "outputs": [],
   "source": [
    "ds1=ds.reshape(3,2)"
   ]
  },
  {
   "cell_type": "code",
   "execution_count": null,
   "id": "78429c4d",
   "metadata": {},
   "outputs": [],
   "source": [
    "ds1\n"
   ]
  },
  {
   "cell_type": "code",
   "execution_count": null,
   "id": "51e8f502",
   "metadata": {},
   "outputs": [],
   "source": [
    "df.shape"
   ]
  },
  {
   "cell_type": "code",
   "execution_count": null,
   "id": "93cc782d",
   "metadata": {},
   "outputs": [],
   "source": [
    "transData=df.T\n",
    "print(transData)"
   ]
  },
  {
   "cell_type": "raw",
   "id": "7c21cf8e",
   "metadata": {},
   "source": [
    "#!pip install mysql-connector-python"
   ]
  },
  {
   "cell_type": "code",
   "execution_count": null,
   "id": "e122257c",
   "metadata": {},
   "outputs": [],
   "source": [
    "import mysql.connector as con"
   ]
  },
  {
   "cell_type": "code",
   "execution_count": null,
   "id": "ad36f791",
   "metadata": {},
   "outputs": [],
   "source": [
    "# establish connection with mysql\n",
    "\n",
    "    "
   ]
  }
 ],
 "metadata": {
  "kernelspec": {
   "display_name": "Python 3",
   "language": "python",
   "name": "python3"
  },
  "language_info": {
   "codemirror_mode": {
    "name": "ipython",
    "version": 3
   },
   "file_extension": ".py",
   "mimetype": "text/x-python",
   "name": "python",
   "nbconvert_exporter": "python",
   "pygments_lexer": "ipython3",
   "version": "3.8.8"
  }
 },
 "nbformat": 4,
 "nbformat_minor": 5
}
